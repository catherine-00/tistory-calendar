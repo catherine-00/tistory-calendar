{
 "cells": [
  {
   "cell_type": "code",
   "execution_count": 1,
   "id": "56c0d844",
   "metadata": {},
   "outputs": [
    {
     "name": "stdout",
     "output_type": "stream",
     "text": [
      "Defaulting to user installation because normal site-packages is not writeable\n",
      "Requirement already satisfied: beautifulsoup4 in c:\\users\\admin\\appdata\\roaming\\python\\python313\\site-packages (4.13.3)\n",
      "Requirement already satisfied: lxml in c:\\users\\admin\\appdata\\roaming\\python\\python313\\site-packages (5.4.0)\n",
      "Requirement already satisfied: soupsieve>1.2 in c:\\users\\admin\\appdata\\roaming\\python\\python313\\site-packages (from beautifulsoup4) (2.6)\n",
      "Requirement already satisfied: typing-extensions>=4.0.0 in c:\\users\\admin\\appdata\\roaming\\python\\python313\\site-packages (from beautifulsoup4) (4.13.0)\n"
     ]
    },
    {
     "name": "stderr",
     "output_type": "stream",
     "text": [
      "\n",
      "[notice] A new release of pip is available: 24.3.1 -> 25.1.1\n",
      "[notice] To update, run: python.exe -m pip install --upgrade pip\n"
     ]
    }
   ],
   "source": [
    "! pip install beautifulsoup4 lxml"
   ]
  },
  {
   "cell_type": "code",
   "execution_count": null,
   "id": "d327e27b",
   "metadata": {},
   "outputs": [],
   "source": [
    "import os\n",
    "import json\n",
    "from bs4 import BeautifulSoup # HTML에서 날짜 정보를 추출하기 위해 사용\n",
    "from datetime import datetime # 문자열 날짜를 YYYY-MM-DD 형식으로 변환\n",
    "from collections import defaultdict # 날짜별 포스팅 수를 자동으로 카운팅하는 딕셔너리\n",
    "\n",
    "\n",
    "# 백업 폴더 설정 및 반복\n",
    "base_path = 'catherine_backup(250613)' # 백업 폴더 경로 설정\n",
    "date_count = defaultdict(int) # 날짜별 포스팅 수를 저장할 딕셔너리 (기본값 0)\n",
    "\n",
    "# 백업 폴더 안의 모든 폴더를 순회\n",
    "for folder_name in os.listdir(base_path):\n",
    "    folder_path = os.path.join(base_path, folder_name)\n",
    "\n",
    "    # 폴더 이름이 숫자이고 실제 폴더일 경우에만 처리\n",
    "    if os.path.isdir(folder_path) and folder_name.isdigit():\n",
    "\n",
    "        # 해당 폴더 안의 파일을 모두 순회\n",
    "        for file_name in os.listdir(folder_path):\n",
    "\n",
    "             # .html 파일만 처리\n",
    "            if file_name.endswith('.html'):\n",
    "                file_path = os.path.join(folder_path, file_name)\n",
    "\n",
    "                 # HTML 파일 열기\n",
    "                with open(file_path, 'r', encoding='utf-8') as f:\n",
    "                    soup = BeautifulSoup(f, 'html.parser')\n",
    "                    date_tag = soup.find('p', class_='date')  # <p class=\"date\"> 태그 찾기\n",
    "                     # 날짜 태그가 존재하면 처리\n",
    "                    if date_tag:\n",
    "                        raw_date = date_tag.text.strip()  # 날짜 문자열 추출\n",
    "                        try:\n",
    "                            # # \"YYYY-MM-DD HH:MM:SS\" 형식을 \"YYYY-MM-DD\"로 변환\n",
    "                            date = datetime.strptime(raw_date, \"%Y-%m-%d %H:%M:%S\").date().isoformat()\n",
    "                            date_count[date] += 1 # 해당 날짜의 포스팅 수 +1 증가\n",
    "                        except ValueError:\n",
    "                            continue  # 날짜 형식이 이상할 경우 무시하고 넘어\n",
    "\n",
    "# 결과를 날짜순으로 정렬해서 JSON 파일로 저장\n",
    "with open('backup_date.json', 'w', encoding='utf-8') as f:\n",
    "    json.dump(dict(sorted(date_count.items())), f, ensure_ascii=False, indent=2)\n"
   ]
  },
  {
   "cell_type": "code",
   "execution_count": null,
   "id": "63d10e8b",
   "metadata": {},
   "outputs": [],
   "source": []
  }
 ],
 "metadata": {
  "kernelspec": {
   "display_name": "Python 3",
   "language": "python",
   "name": "python3"
  },
  "language_info": {
   "codemirror_mode": {
    "name": "ipython",
    "version": 3
   },
   "file_extension": ".py",
   "mimetype": "text/x-python",
   "name": "python",
   "nbconvert_exporter": "python",
   "pygments_lexer": "ipython3",
   "version": "3.13.2"
  }
 },
 "nbformat": 4,
 "nbformat_minor": 5
}
