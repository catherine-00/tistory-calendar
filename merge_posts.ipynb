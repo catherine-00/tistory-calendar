{
 "cells": [
  {
   "cell_type": "code",
   "execution_count": 1,
   "id": "7549e78a",
   "metadata": {},
   "outputs": [],
   "source": [
    "import json\n",
    "\n",
    "def load_json(filename):\n",
    "    with open(filename, 'r', encoding='utf-8') as f:\n",
    "        return json.load(f)\n",
    "\n",
    "# 기존 백업 데이터\n",
    "backup = load_json('backup_date.json')\n",
    "\n",
    "# RSS에서 가져온 최신 데이터\n",
    "rss = load_json('tistory_post_counts.json')\n",
    "\n",
    "# RSS 데이터 중 backup에 없는 날짜만 추가\n",
    "for date, count in rss.items():\n",
    "    if date not in backup:\n",
    "        backup[date] = count\n",
    "\n",
    "# 날짜순으로 정렬해서 final_date.json으로 저장\n",
    "with open('final_date.json', 'w', encoding='utf-8') as f:\n",
    "    json.dump(dict(sorted(backup.items())), f, ensure_ascii=False, indent=2)\n"
   ]
  },
  {
   "cell_type": "code",
   "execution_count": null,
   "id": "e56cc0f9",
   "metadata": {},
   "outputs": [],
   "source": []
  }
 ],
 "metadata": {
  "kernelspec": {
   "display_name": "Python 3",
   "language": "python",
   "name": "python3"
  },
  "language_info": {
   "codemirror_mode": {
    "name": "ipython",
    "version": 3
   },
   "file_extension": ".py",
   "mimetype": "text/x-python",
   "name": "python",
   "nbconvert_exporter": "python",
   "pygments_lexer": "ipython3",
   "version": "3.13.5"
  }
 },
 "nbformat": 4,
 "nbformat_minor": 5
}
